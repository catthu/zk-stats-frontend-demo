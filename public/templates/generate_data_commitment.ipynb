{
  "cells": [
   {
    "cell_type": "code",
    "execution_count": 1,
    "metadata": {},
    "outputs": [],
    "source": [
     "%pip install zkstats==0.1.5"
    ]
   },
   {
    "cell_type": "code",
    "execution_count": 2,
    "metadata": {},
    "outputs": [],
    "source": [
     "import os\n",
     "cwd = os.getcwd()\n",
     "\n",
     "# FIXME: fill this in with the path to your data\n",
     "data_path = f\"{cwd}/data.json\"\n",
     "# Paths to the output files\n",
     "output_dir = f\"{cwd}/out\"\n",
     "os.makedirs(output_dir, exist_ok=True)\n",
     "\n",
     "data_commitment_path = f\"{output_dir}/data_commitment.json\"\n",
     "# [0, 20) should be enough for most cases\n",
     "possible_scales = list(range(20))"
    ]
   },
   {
    "cell_type": "code",
    "execution_count": 3,
    "metadata": {},
    "outputs": [],
    "source": [
     "from zkstats.core import generate_data_commitment\n",
     "\n",
     "generate_data_commitment(data_path, possible_scales, data_commitment_path)"
    ]
   }
  ],
  "metadata": {
   "kernelspec": {
    "display_name": ".venv",
    "language": "python",
    "name": "python3"
   },
   "language_info": {
    "codemirror_mode": {
     "name": "ipython",
     "version": 3
    },
    "file_extension": ".py",
    "mimetype": "text/x-python",
    "name": "python",
    "nbconvert_exporter": "python",
    "pygments_lexer": "ipython3",
    "version": "3.12.1"
   }
  },
  "nbformat": 4,
  "nbformat_minor": 2
 }